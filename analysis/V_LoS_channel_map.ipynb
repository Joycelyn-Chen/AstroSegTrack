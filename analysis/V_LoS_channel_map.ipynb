{
 "cells": [
  {
   "cell_type": "markdown",
   "id": "23421aa7",
   "metadata": {},
   "source": [
    "# Import Libraries and read file"
   ]
  },
  {
   "cell_type": "code",
   "execution_count": 1,
   "id": "2e55ea63",
   "metadata": {},
   "outputs": [
    {
     "name": "stderr",
     "output_type": "stream",
     "text": [
      "/home/joy0921/.local/lib/python3.10/site-packages/yt/sample_data/api.py:144: UserWarning: Storage directory from yt config doesn't exist (currently set to '/does/not/exist'). Current working directory will be used instead.\n",
      "  warn(\n"
     ]
    },
    {
     "ename": "FileNotFoundError",
     "evalue": "No such file or directory: '/home/joy0921/Desktop/Dataset/hdf5_files/sn34_smd132_bx5_pe300_hdf5_plt_cnt_0206'.",
     "output_type": "error",
     "traceback": [
      "\u001b[0;31m---------------------------------------------------------------------------\u001b[0m",
      "\u001b[0;31mFileNotFoundError\u001b[0m                         Traceback (most recent call last)",
      "Cell \u001b[0;32mIn[1], line 13\u001b[0m\n\u001b[1;32m      7\u001b[0m \u001b[38;5;66;03m# elephant\u001b[39;00m\n\u001b[1;32m      8\u001b[0m \u001b[38;5;66;03m# hdf5_root = \"/srv/data/stratbox_simulations/stratbox_particle_runs/bx5/smd132/sn34/pe300/4pc_resume/4pc\"\u001b[39;00m\n\u001b[1;32m      9\u001b[0m \n\u001b[1;32m     10\u001b[0m \u001b[38;5;66;03m# s01.leaves\u001b[39;00m\n\u001b[1;32m     11\u001b[0m hdf5_root \u001b[38;5;241m=\u001b[39m \u001b[38;5;124m\"\u001b[39m\u001b[38;5;124m/home/joy0921/Desktop/Dataset/hdf5_files\u001b[39m\u001b[38;5;124m\"\u001b[39m\n\u001b[0;32m---> 13\u001b[0m ds \u001b[38;5;241m=\u001b[39m \u001b[43myt\u001b[49m\u001b[38;5;241;43m.\u001b[39;49m\u001b[43mload\u001b[49m\u001b[43m(\u001b[49m\u001b[43mos\u001b[49m\u001b[38;5;241;43m.\u001b[39;49m\u001b[43mpath\u001b[49m\u001b[38;5;241;43m.\u001b[39;49m\u001b[43mjoin\u001b[49m\u001b[43m(\u001b[49m\u001b[43mhdf5_root\u001b[49m\u001b[43m,\u001b[49m\u001b[43m \u001b[49m\u001b[38;5;124;43m'\u001b[39;49m\u001b[38;5;124;43msn34_smd132_bx5_pe300_hdf5_plt_cnt_0206\u001b[39;49m\u001b[38;5;124;43m'\u001b[39;49m\u001b[43m)\u001b[49m\u001b[43m)\u001b[49m\n\u001b[1;32m     15\u001b[0m center \u001b[38;5;241m=\u001b[39m [\u001b[38;5;241m0\u001b[39m, \u001b[38;5;241m0\u001b[39m, \u001b[38;5;241m0\u001b[39m] \u001b[38;5;241m*\u001b[39m yt\u001b[38;5;241m.\u001b[39munits\u001b[38;5;241m.\u001b[39mpc\n\u001b[1;32m     16\u001b[0m arb_center \u001b[38;5;241m=\u001b[39m ds\u001b[38;5;241m.\u001b[39marr(center, \u001b[38;5;124m'\u001b[39m\u001b[38;5;124mcode_length\u001b[39m\u001b[38;5;124m'\u001b[39m)\n",
      "File \u001b[0;32m~/.local/lib/python3.10/site-packages/yt/loaders.py:96\u001b[0m, in \u001b[0;36mload\u001b[0;34m(fn, hint, *args, **kwargs)\u001b[0m\n\u001b[1;32m     93\u001b[0m \u001b[38;5;66;03m# This will raise FileNotFoundError if the path isn't matched\u001b[39;00m\n\u001b[1;32m     94\u001b[0m \u001b[38;5;66;03m# either in the current dir or yt.config.ytcfg['data_dir_directory']\u001b[39;00m\n\u001b[1;32m     95\u001b[0m \u001b[38;5;28;01mif\u001b[39;00m \u001b[38;5;129;01mnot\u001b[39;00m fn\u001b[38;5;241m.\u001b[39mstartswith(\u001b[38;5;124m\"\u001b[39m\u001b[38;5;124mhttp\u001b[39m\u001b[38;5;124m\"\u001b[39m):\n\u001b[0;32m---> 96\u001b[0m     fn \u001b[38;5;241m=\u001b[39m \u001b[38;5;28mstr\u001b[39m(\u001b[43mlookup_on_disk_data\u001b[49m\u001b[43m(\u001b[49m\u001b[43mfn\u001b[49m\u001b[43m)\u001b[49m)\n\u001b[1;32m     98\u001b[0m candidates \u001b[38;5;241m=\u001b[39m []\n\u001b[1;32m     99\u001b[0m \u001b[38;5;28;01mfor\u001b[39;00m \u001b[38;5;28mcls\u001b[39m \u001b[38;5;129;01min\u001b[39;00m output_type_registry\u001b[38;5;241m.\u001b[39mvalues():\n",
      "File \u001b[0;32m~/.local/lib/python3.10/site-packages/yt/sample_data/api.py:181\u001b[0m, in \u001b[0;36mlookup_on_disk_data\u001b[0;34m(fn)\u001b[0m\n\u001b[1;32m    179\u001b[0m         \u001b[38;5;28;01mreturn\u001b[39;00m alt_path\n\u001b[1;32m    180\u001b[0m     err_msg \u001b[38;5;241m+\u001b[39m\u001b[38;5;241m=\u001b[39m \u001b[38;5;124mf\u001b[39m\u001b[38;5;124m\"\u001b[39m\u001b[38;5;130;01m\\n\u001b[39;00m\u001b[38;5;124m(Also tried \u001b[39m\u001b[38;5;124m'\u001b[39m\u001b[38;5;132;01m{\u001b[39;00malt_path\u001b[38;5;132;01m}\u001b[39;00m\u001b[38;5;124m'\u001b[39m\u001b[38;5;124m).\u001b[39m\u001b[38;5;124m\"\u001b[39m\n\u001b[0;32m--> 181\u001b[0m \u001b[38;5;28;01mraise\u001b[39;00m \u001b[38;5;167;01mFileNotFoundError\u001b[39;00m(err_msg)\n",
      "\u001b[0;31mFileNotFoundError\u001b[0m: No such file or directory: '/home/joy0921/Desktop/Dataset/hdf5_files/sn34_smd132_bx5_pe300_hdf5_plt_cnt_0206'."
     ]
    }
   ],
   "source": [
    "import matplotlib.pyplot as plt\n",
    "import astropy\n",
    "import yt\n",
    "import numpy as np\n",
    "import os \n",
    "\n",
    "# elephant\n",
    "# hdf5_root = \"/srv/data/stratbox_simulations/stratbox_particle_runs/bx5/smd132/sn34/pe300/4pc_resume/4pc\"\n",
    "\n",
    "# s01.leaves\n",
    "hdf5_root = \"/home/joy0921/Desktop/Dataset/hdf5_files\"\n",
    "\n",
    "ds = yt.load(os.path.join(hdf5_root, 'sn34_smd132_bx5_pe300_hdf5_plt_cnt_0206'))\n",
    "\n",
    "center = [0, 0, 0] * yt.units.pc\n",
    "arb_center = ds.arr(center, 'code_length')\n",
    "xlim = 256\n",
    "ylim = 256\n",
    "zlim= 256\n",
    "left_edge = arb_center - ds.quan(xlim // 2, 'pc')\n",
    "right_edge = arb_center + ds.quan(ylim // 2, 'pc')\n",
    "obj = ds.arbitrary_grid(left_edge, right_edge, dims=[xlim, ylim, zlim])"
   ]
  },
  {
   "cell_type": "code",
   "execution_count": null,
   "id": "77f3aa1e",
   "metadata": {},
   "outputs": [],
   "source": []
  }
 ],
 "metadata": {
  "kernelspec": {
   "display_name": "Python 3 (ipykernel)",
   "language": "python",
   "name": "python3"
  },
  "language_info": {
   "codemirror_mode": {
    "name": "ipython",
    "version": 3
   },
   "file_extension": ".py",
   "mimetype": "text/x-python",
   "name": "python",
   "nbconvert_exporter": "python",
   "pygments_lexer": "ipython3",
   "version": "3.10.9"
  }
 },
 "nbformat": 4,
 "nbformat_minor": 5
}
