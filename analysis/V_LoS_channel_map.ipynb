{
 "cells": [
  {
   "cell_type": "markdown",
   "id": "23421aa7",
   "metadata": {},
   "source": [
    "# Import Libraries and read file"
   ]
  },
  {
   "cell_type": "code",
   "execution_count": null,
   "id": "2e55ea63",
   "metadata": {},
   "outputs": [
    {
     "ename": "",
     "evalue": "",
     "output_type": "error",
     "traceback": [
      "\u001b[1;31mRunning cells with '/bin/python3.10' requires the ipykernel package.\n",
      "\u001b[1;31mRun the following command to install 'ipykernel' into the Python environment. \n",
      "\u001b[1;31mCommand: '/bin/python3.10 -m pip install ipykernel -U --user --force-reinstall'"
     ]
    }
   ],
   "source": [
    "import matplotlib.pyplot as plt\n",
    "import astropy\n",
    "import yt\n",
    "import numpy as np\n",
    "import os \n",
    "\n",
    "# elephant\n",
    "# hdf5_root = \"/srv/data/stratbox_simulations/stratbox_particle_runs/bx5/smd132/sn34/pe300/4pc_resume/4pc\"\n",
    "\n",
    "# s01.leaves\n",
    "hdf5_root = \"/home/joy0921/Desktop/Dataset/hdf5_files\"\n",
    "\n",
    "ds = yt.load(os.path.join(hdf5_root, 'sn34_smd132_bx5_pe300_hdf5_plt_cnt_0206'))\n",
    "\n",
    "center = [0, 0, 0] * yt.units.pc\n",
    "arb_center = ds.arr(center, 'code_length')\n",
    "xlim = 256\n",
    "ylim = 256\n",
    "zlim= 256\n",
    "left_edge = arb_center - ds.quan(xlim // 2, 'pc')\n",
    "right_edge = arb_center + ds.quan(ylim // 2, 'pc')\n",
    "obj = ds.arbitrary_grid(left_edge, right_edge, dims=[xlim, ylim, zlim])"
   ]
  },
  {
   "cell_type": "code",
   "execution_count": null,
   "id": "0ea2a1bf",
   "metadata": {},
   "outputs": [],
   "source": []
  }
 ],
 "metadata": {
  "kernelspec": {
   "display_name": "Python 3 (ipykernel)",
   "language": "python",
   "name": "python3"
  },
  "language_info": {
   "codemirror_mode": {
    "name": "ipython",
    "version": 3
   },
   "file_extension": ".py",
   "mimetype": "text/x-python",
   "name": "python",
   "nbconvert_exporter": "python",
   "pygments_lexer": "ipython3",
   "version": "3.10.13"
  }
 },
 "nbformat": 4,
 "nbformat_minor": 5
}
